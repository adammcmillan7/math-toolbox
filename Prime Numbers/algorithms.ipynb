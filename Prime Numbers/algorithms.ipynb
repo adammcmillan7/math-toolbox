{
 "cells": [
  {
   "cell_type": "code",
   "execution_count": 1,
   "metadata": {},
   "outputs": [],
   "source": [
    "#basic single-number evaluation methods\n",
    "\n",
    "def basicPrime(number):\n",
    "    '''Most primitive algorithm to find prime numbers.'''\n",
    "    if number < 2:\n",
    "        return False\n",
    "    elif number == 2:\n",
    "        return True\n",
    "    for index in range(3,number+1):\n",
    "        if index == number:\n",
    "            return True\n",
    "        if number % index == 0:\n",
    "            return False\n",
    "        \n",
    "def basicOnlyOdd(number):\n",
    "    '''Improves upon the basic algorithm by evaluating only odd numbers- since any even number is divisible by 2 and thus not prime.'''\n",
    "    if number < 2:\n",
    "        return False\n",
    "    elif number == 2:\n",
    "        return True\n",
    "    elif number % 2 == 0:\n",
    "        return False\n",
    "    for index in range(3,number+1):\n",
    "        if index == number:\n",
    "            return True\n",
    "        if number % index == 0:\n",
    "            return False"
   ]
  },
  {
   "cell_type": "code",
   "execution_count": 72,
   "metadata": {},
   "outputs": [],
   "source": [
    "#historically famous algorithms\n",
    "from numpy import sqrt,floor\n",
    "from random import randint\n",
    "\n",
    "def sieveEratosthenes(num):\n",
    "    # o n log log n\n",
    "    #algo marks 1 as a prime number\n",
    "    results = [True]*(num+1)\n",
    "    for i in range(2, int(sqrt(num))):\n",
    "        if results[i]:\n",
    "            j = i**2\n",
    "            while j <= num:\n",
    "                results[j] = False\n",
    "                j += i\n",
    "    \n",
    "    return [m for m, bool_val in enumerate(results) if bool_val]"
   ]
  },
  {
   "cell_type": "code",
   "execution_count": 59,
   "metadata": {},
   "outputs": [],
   "source": [
    "def sieveSundaram(num):\n",
    "    #o n log n\n",
    "    #does not include 2 as a prime number\n",
    "    k = floor((num-1)/2)\n",
    "    results = [True]*int(k+1)\n",
    "    \n",
    "    for i in range(1,int(sqrt(k))):\n",
    "        j = i\n",
    "        while ((i+j+2*i*j)<=k):\n",
    "            results[(i+j+2*i*j)] = False\n",
    "            j += 1\n",
    "            \n",
    "    primes = []\n",
    "    for i in range(1,int(k+1)):\n",
    "        if results[i]:\n",
    "            primes.append(2*i +1)\n",
    "    return primes"
   ]
  },
  {
   "cell_type": "code",
   "execution_count": 62,
   "metadata": {},
   "outputs": [
    {
     "data": {
      "text/plain": [
       "[3, 5, 7, 11, 13, 17, 19, 23, 29, 31, 37, 41, 43, 47, 53, 59]"
      ]
     },
     "execution_count": 62,
     "metadata": {},
     "output_type": "execute_result"
    }
   ],
   "source": [
    "sieveSundaram(60)"
   ]
  },
  {
   "cell_type": "code",
   "execution_count": 65,
   "metadata": {},
   "outputs": [
    {
     "data": {
      "text/plain": [
       "[3, 5, 7, 11, 13, 17, 19, 23, 29, 31, 37, 41, 43, 47, 53, 59]"
      ]
     },
     "execution_count": 65,
     "metadata": {},
     "output_type": "execute_result"
    }
   ],
   "source": [
    "sieveSundaram(60)"
   ]
  },
  {
   "cell_type": "code",
   "execution_count": 19,
   "metadata": {},
   "outputs": [
    {
     "name": "stdout",
     "output_type": "stream",
     "text": [
      "2\n",
      "3\n"
     ]
    }
   ],
   "source": [
    "for i in range(2, int(sqrt(16))):\n",
    "    print(i)"
   ]
  },
  {
   "cell_type": "code",
   "execution_count": 29,
   "metadata": {},
   "outputs": [
    {
     "data": {
      "text/plain": [
       "[2, 3, 5, 7, 11, 13]"
      ]
     },
     "execution_count": 29,
     "metadata": {},
     "output_type": "execute_result"
    }
   ],
   "source": [
    "sieveEratosthenes(16)"
   ]
  },
  {
   "cell_type": "code",
   "execution_count": 33,
   "metadata": {},
   "outputs": [],
   "source": [
    "results = [True, True, False, False, True]"
   ]
  },
  {
   "cell_type": "code",
   "execution_count": 34,
   "metadata": {},
   "outputs": [
    {
     "data": {
      "text/plain": [
       "[0, 1, 4]"
      ]
     },
     "execution_count": 34,
     "metadata": {},
     "output_type": "execute_result"
    }
   ],
   "source": []
  },
  {
   "cell_type": "code",
   "execution_count": 66,
   "metadata": {},
   "outputs": [
    {
     "ename": "SyntaxError",
     "evalue": "invalid syntax (<ipython-input-66-210f08ab7250>, line 8)",
     "output_type": "error",
     "traceback": [
      "\u001b[1;36m  File \u001b[1;32m\"<ipython-input-66-210f08ab7250>\"\u001b[1;36m, line \u001b[1;32m8\u001b[0m\n\u001b[1;33m    if\u001b[0m\n\u001b[1;37m       ^\u001b[0m\n\u001b[1;31mSyntaxError\u001b[0m\u001b[1;31m:\u001b[0m invalid syntax\n"
     ]
    }
   ],
   "source": [
    "def sieveAtkin(num):\n",
    "    undersixty = [1, 7, 11, 13, 17, 19, 23, 29, 31, 37, 41, 43, 47, 53, 59]\n",
    "    results = [False]*num\n",
    "    \n",
    "    for i in range(1,int(sqrt(num))):\n",
    "        for j in range(1,2,int(sqrt(num))):\n",
    "            m = 4*(i**2) + j**2\n",
    "            if "
   ]
  },
  {
   "cell_type": "code",
   "execution_count": 77,
   "metadata": {},
   "outputs": [],
   "source": [
    "#not a definite test\n",
    "def fermatPrimality(num,k):\n",
    "    #num must be >3\n",
    "    #k: number of times to test for primality\n",
    "    for i in range(1,k+1):\n",
    "        rand = randint(2,num-2)\n",
    "        if ((rand**(num-1)) % num != 1):\n",
    "            return False\n",
    "    return True\n",
    "    "
   ]
  },
  {
   "cell_type": "code",
   "execution_count": 79,
   "metadata": {},
   "outputs": [
    {
     "data": {
      "text/plain": [
       "True"
      ]
     },
     "execution_count": 79,
     "metadata": {},
     "output_type": "execute_result"
    }
   ],
   "source": [
    "fermatPrimality(13,20)"
   ]
  },
  {
   "cell_type": "code",
   "execution_count": null,
   "metadata": {},
   "outputs": [],
   "source": []
  }
 ],
 "metadata": {
  "kernelspec": {
   "display_name": "Python 3",
   "language": "python",
   "name": "python3"
  },
  "language_info": {
   "codemirror_mode": {
    "name": "ipython",
    "version": 3
   },
   "file_extension": ".py",
   "mimetype": "text/x-python",
   "name": "python",
   "nbconvert_exporter": "python",
   "pygments_lexer": "ipython3",
   "version": "3.7.6"
  }
 },
 "nbformat": 4,
 "nbformat_minor": 4
}
